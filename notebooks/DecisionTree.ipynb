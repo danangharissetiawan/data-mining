{
 "nbformat": 4,
 "nbformat_minor": 0,
 "metadata": {
  "colab": {
   "name": "DecisionTree.ipynb",
   "provenance": [],
   "collapsed_sections": []
  },
  "kernelspec": {
   "name": "python3",
   "display_name": "Python 3"
  },
  "language_info": {
   "name": "python"
  }
 },
 "cells": [
  {
   "cell_type": "code",
   "metadata": {
    "id": "IklTYiWZVgVN"
   },
   "source": [
    "#Import Library Scikit Learn untuk Decision Tree, Dataset & Matplotlib\n",
    "from sklearn.tree import DecisionTreeClassifier\n",
    "from sklearn import datasets\n",
    "import matplotlib.pyplot as plt"
   ],
   "execution_count": 12,
   "outputs": []
  },
  {
   "cell_type": "code",
   "metadata": {
    "id": "awYc77BNV88s"
   },
   "source": [
    "#Load Dataset Iris dari library scikit learn\n",
    "iris = datasets.load_iris()\n",
    "features = iris['data']\n",
    "target = iris['target']\n",
    "print(target)"
   ],
   "execution_count": 13,
   "outputs": [
    {
     "name": "stdout",
     "output_type": "stream",
     "text": [
      "[0 0 0 0 0 0 0 0 0 0 0 0 0 0 0 0 0 0 0 0 0 0 0 0 0 0 0 0 0 0 0 0 0 0 0 0 0\n",
      " 0 0 0 0 0 0 0 0 0 0 0 0 0 1 1 1 1 1 1 1 1 1 1 1 1 1 1 1 1 1 1 1 1 1 1 1 1\n",
      " 1 1 1 1 1 1 1 1 1 1 1 1 1 1 1 1 1 1 1 1 1 1 1 1 1 1 2 2 2 2 2 2 2 2 2 2 2\n",
      " 2 2 2 2 2 2 2 2 2 2 2 2 2 2 2 2 2 2 2 2 2 2 2 2 2 2 2 2 2 2 2 2 2 2 2 2 2\n",
      " 2 2]\n"
     ]
    }
   ]
  },
  {
   "cell_type": "code",
   "metadata": {
    "id": "Yg3xOE5dWZM7"
   },
   "source": [
    "# Membuat Objek Model Decision Tree\n",
    "decisiontree = DecisionTreeClassifier(random_state=0, max_depth=None, \n",
    "                                      min_samples_split=2, min_samples_leaf=1,\n",
    "                                      min_weight_fraction_leaf=0,\n",
    "                                      max_leaf_nodes=None, \n",
    "                                      min_impurity_decrease=0)"
   ],
   "execution_count": 14,
   "outputs": []
  },
  {
   "cell_type": "code",
   "metadata": {
    "id": "rvS3w3ulaS-h"
   },
   "source": [
    "#Mentraining Model Decision Tree\n",
    "model = decisiontree.fit(features, target)"
   ],
   "execution_count": 15,
   "outputs": []
  },
  {
   "cell_type": "code",
   "metadata": {
    "id": "Qilt5_XdafYe"
   },
   "source": [
    "#Mengambil sampel observasi dan membuat prediksi\n",
    "#Sampel berupa data dimensi kelopak\n",
    "#Fungsi predict() => memeriksa kelas yang dimilikinya\n",
    "#Fungsi predict_proba() => memeriksa probabilitas kelas dari prediksi tersebut\n",
    "observation = [[5, 4, 3, 2]]\n",
    "model.predict(observation)\n",
    "model.predict_proba(observation)"
   ],
   "execution_count": 16,
   "outputs": [
    {
     "data": {
      "text/plain": "array([[0., 1., 0.]])"
     },
     "execution_count": 16,
     "metadata": {},
     "output_type": "execute_result"
    }
   ]
  },
  {
   "cell_type": "code",
   "metadata": {
    "id": "X0kEroBEhSA7"
   },
   "source": [
    "#Membuat grafik visualisasi Decision Tree\n",
    "import pydotplus\n",
    "from sklearn import tree\n",
    "dot_data = tree.export_graphviz(decisiontree, out_file=None, \n",
    "                                feature_names=iris['feature_names'], \n",
    "                                class_names=iris['target_names'])\n",
    "from IPython.display import Image\n",
    "graph = pydotplus.graph_from_dot_data(dot_data)\n",
    "Image(graph.create_png())\n",
    "graph.write_png('iris.png')"
   ],
   "execution_count": 17,
   "outputs": [
    {
     "data": {
      "text/plain": "True"
     },
     "execution_count": 17,
     "metadata": {},
     "output_type": "execute_result"
    }
   ]
  }
 ]
}
